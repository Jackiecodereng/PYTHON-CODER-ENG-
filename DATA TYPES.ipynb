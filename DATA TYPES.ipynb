{
 "cells": [
  {
   "cell_type": "code",
   "execution_count": 1,
   "id": "2f356f8e-fb11-49d9-89b0-4ac14e05256f",
   "metadata": {},
   "outputs": [
    {
     "ename": "NameError",
     "evalue": "name 'INTEGER' is not defined",
     "output_type": "error",
     "traceback": [
      "\u001b[1;31m---------------------------------------------------------------------------\u001b[0m",
      "\u001b[1;31mNameError\u001b[0m                                 Traceback (most recent call last)",
      "Cell \u001b[1;32mIn[1], line 2\u001b[0m\n\u001b[0;32m      1\u001b[0m \u001b[38;5;66;03m# NUMERIC DATA TYPES\u001b[39;00m\n\u001b[1;32m----> 2\u001b[0m INTEGER(\u001b[38;5;241m12\u001b[39m,\u001b[38;5;241m-\u001b[39m\u001b[38;5;241m12\u001b[39m)\n\u001b[0;32m      3\u001b[0m FLOAT,DECIMAL(\u001b[38;5;241m12.25\u001b[39m)\n\u001b[0;32m      4\u001b[0m COMPLEX\n",
      "\u001b[1;31mNameError\u001b[0m: name 'INTEGER' is not defined"
     ]
    }
   ],
   "source": [
    "# NUMERIC DATA TYPES\n",
    "INT(12,-12)\n",
    "FLOAT,DECIMAL(12.25)\n",
    "COMPLEX(12+3j)\n",
    "boolean=(1==1)true\n",
    "       1>5 false"
   ]
  },
  {
   "cell_type": "code",
   "execution_count": null,
   "id": "536e0e8f-f315-47a3-8419-2766a29c8be1",
   "metadata": {},
   "outputs": [],
   "source": []
  },
  {
   "cell_type": "code",
   "execution_count": null,
   "id": "543700c3-81c8-4365-a783-bc83472d7169",
   "metadata": {},
   "outputs": [],
   "source": []
  },
  {
   "cell_type": "code",
   "execution_count": 3,
   "id": "b8bdae68-8b0d-40f8-8f54-e155c1c16f2b",
   "metadata": {},
   "outputs": [
    {
     "name": "stdout",
     "output_type": "stream",
     "text": [
      "Hello\n"
     ]
    }
   ],
   "source": [
    "#indexing\n",
    "\n",
    "a='Hello World!'\n",
    "print(a[:5])"
   ]
  },
  {
   "cell_type": "code",
   "execution_count": 5,
   "id": "edfa3ca0-7834-4d44-b613-8bd86ed909d5",
   "metadata": {},
   "outputs": [
    {
     "data": {
      "text/plain": [
       "'Hello World!Hello World!'"
      ]
     },
     "execution_count": 5,
     "metadata": {},
     "output_type": "execute_result"
    }
   ],
   "source": [
    "a+a"
   ]
  },
  {
   "cell_type": "code",
   "execution_count": 17,
   "id": "26cdf521-ef76-4e5f-97bc-e0be110b1033",
   "metadata": {},
   "outputs": [],
   "source": [
    "#list\n",
    "\n",
    "ice_cream=['cookie dough','strawberry','chocolate']\n",
    "ice_cream.append('salted caramel')"
   ]
  },
  {
   "cell_type": "code",
   "execution_count": 27,
   "id": "e8ca7ae7-c7c7-4639-8162-4a2184da0a01",
   "metadata": {},
   "outputs": [
    {
     "name": "stdout",
     "output_type": "stream",
     "text": [
      "['butter pecan', 'strawberry', 'chocolate', 'salted caramel']\n"
     ]
    }
   ],
   "source": [
    "ice_cream[0]='butter pecan'\n",
    "print(ice_cream)"
   ]
  },
  {
   "cell_type": "code",
   "execution_count": 21,
   "id": "0b526842-dac3-4343-a317-926352c7d50e",
   "metadata": {},
   "outputs": [
    {
     "data": {
      "text/plain": [
       "'vanilla'"
      ]
     },
     "execution_count": 21,
     "metadata": {},
     "output_type": "execute_result"
    }
   ],
   "source": [
    "#nested list\n",
    "nest_list=['vanilla',3,['scoops','spoon'],True]\n",
    "nest_list[0]"
   ]
  },
  {
   "cell_type": "code",
   "execution_count": 25,
   "id": "381aa8a6-9c0b-46a7-85a7-6ad61dc4cc7a",
   "metadata": {},
   "outputs": [
    {
     "data": {
      "text/plain": [
       "['scoops', 'spoon']"
      ]
     },
     "execution_count": 25,
     "metadata": {},
     "output_type": "execute_result"
    }
   ],
   "source": [
    "nest_list[2]"
   ]
  },
  {
   "cell_type": "code",
   "execution_count": 40,
   "id": "5b5cb517-c3fd-4a38-a52d-c1fb9f1df934",
   "metadata": {},
   "outputs": [
    {
     "data": {
      "text/plain": [
       "1"
      ]
     },
     "execution_count": 40,
     "metadata": {},
     "output_type": "execute_result"
    }
   ],
   "source": [
    "\n",
    "tuple_scoop=(1,2,3,2,1)\n",
    "tuple_scoop[0]"
   ]
  },
  {
   "cell_type": "code",
   "execution_count": 42,
   "id": "a346f410-8f26-4a8f-9763-9b90f8f13569",
   "metadata": {},
   "outputs": [
    {
     "name": "stdout",
     "output_type": "stream",
     "text": [
      "{1, 2, 3}\n"
     ]
    }
   ],
   "source": [
    "daily_pints={1,2,3}\n",
    "print(daily_pints)"
   ]
  },
  {
   "cell_type": "code",
   "execution_count": 46,
   "id": "9dab3f14-a613-4fb0-be4f-c3cb779244c8",
   "metadata": {},
   "outputs": [
    {
     "name": "stdout",
     "output_type": "stream",
     "text": [
      "{1, 2, 3, 4, 5, 6, 31}\n"
     ]
    }
   ],
   "source": [
    "daily_pints_log={1,2,31,2,3,4,1,2,5,6,3,2}\n",
    "print(daily_pints_log)"
   ]
  },
  {
   "cell_type": "code",
   "execution_count": 48,
   "id": "07367063-c2dd-49cf-9e1a-e720b500c091",
   "metadata": {},
   "outputs": [
    {
     "name": "stdout",
     "output_type": "stream",
     "text": [
      "{0, 1, 2, 3, 4, 5, 6, 7, 24, 31}\n"
     ]
    }
   ],
   "source": [
    "wifes_daily_pints_log={1,3,5,7,3,24,5,3,2,0}\n",
    "print(daily_pints_log|wifes_daily_pints_log)"
   ]
  },
  {
   "cell_type": "code",
   "execution_count": 50,
   "id": "47ebfb60-68dd-4ffc-937b-37207eb317db",
   "metadata": {},
   "outputs": [
    {
     "name": "stdout",
     "output_type": "stream",
     "text": [
      "{1, 2, 3, 5}\n"
     ]
    }
   ],
   "source": [
    "wifes_daily_pints_log={1,3,5,7,3,24,5,3,2,0}\n",
    "print(daily_pints_log&wifes_daily_pints_log)"
   ]
  },
  {
   "cell_type": "code",
   "execution_count": 54,
   "id": "ee8d89ee-c27e-4311-9ffb-960ad91ad047",
   "metadata": {},
   "outputs": [
    {
     "name": "stdout",
     "output_type": "stream",
     "text": [
      "{0, 4, 6, 7, 24, 31}\n"
     ]
    }
   ],
   "source": [
    "wifes_daily_pints_log={1,3,5,7,3,24,5,3,2,0}\n",
    "print(daily_pints_log^wifes_daily_pints_log)"
   ]
  },
  {
   "cell_type": "code",
   "execution_count": null,
   "id": "7b633909-5ed2-460e-a86b-6c1f9a9b6b1b",
   "metadata": {},
   "outputs": [],
   "source": []
  },
  {
   "cell_type": "code",
   "execution_count": 56,
   "id": "2b9f7237-7fde-4aac-969e-808f8e5d049b",
   "metadata": {},
   "outputs": [
    {
     "name": "stdout",
     "output_type": "stream",
     "text": [
      "{4, 6, 31}\n"
     ]
    }
   ],
   "source": [
    "wifes_daily_pints_log={1,3,5,7,3,24,5,3,2,0}\n",
    "print(daily_pints_log-wifes_daily_pints_log)"
   ]
  },
  {
   "cell_type": "code",
   "execution_count": null,
   "id": "3b24d68b-d838-48fb-891d-2d205a9975c7",
   "metadata": {},
   "outputs": [],
   "source": []
  },
  {
   "cell_type": "code",
   "execution_count": 66,
   "id": "ea793e65-1fac-4348-947b-11b17bc0b671",
   "metadata": {},
   "outputs": [
    {
     "ename": "SyntaxError",
     "evalue": "expression expected after dictionary key and ':' (523869635.py, line 1)",
     "output_type": "error",
     "traceback": [
      "\u001b[1;36m  Cell \u001b[1;32mIn[66], line 1\u001b[1;36m\u001b[0m\n\u001b[1;33m    dict_cream= {'name':'alex','weekly intake':,5,'favorite ice creams':['mcc','chocolate']}\u001b[0m\n\u001b[1;37m                                              ^\u001b[0m\n\u001b[1;31mSyntaxError\u001b[0m\u001b[1;31m:\u001b[0m expression expected after dictionary key and ':'\n"
     ]
    }
   ],
   "source": [
    "dict_cream= {'name':'alex','weekly intake':,5,'favorite ice creams':['mcc','chocolate']}\n",
    "dict_cream.values()"
   ]
  },
  {
   "cell_type": "code",
   "execution_count": null,
   "id": "41d58671-26b4-4b69-8323-664314e5c9a1",
   "metadata": {},
   "outputs": [],
   "source": []
  }
 ],
 "metadata": {
  "kernelspec": {
   "display_name": "Python 3 (ipykernel)",
   "language": "python",
   "name": "python3"
  },
  "language_info": {
   "codemirror_mode": {
    "name": "ipython",
    "version": 3
   },
   "file_extension": ".py",
   "mimetype": "text/x-python",
   "name": "python",
   "nbconvert_exporter": "python",
   "pygments_lexer": "ipython3",
   "version": "3.12.4"
  }
 },
 "nbformat": 4,
 "nbformat_minor": 5
}
