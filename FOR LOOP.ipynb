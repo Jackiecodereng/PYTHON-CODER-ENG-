{
 "cells": [
  {
   "cell_type": "code",
   "execution_count": 21,
   "id": "8c3770f3-f71b-4951-bc4e-e156a858b6d2",
   "metadata": {},
   "outputs": [
    {
     "name": "stdout",
     "output_type": "stream",
     "text": [
      "yah\n",
      "yah\n",
      "yah\n",
      "yah\n",
      "yah\n"
     ]
    }
   ],
   "source": [
    "# FOR LOOPS\n",
    "integers=[1,2,3,4,5]\n",
    "for numbers in integers:\n",
    "    print('yah')"
   ]
  },
  {
   "cell_type": "code",
   "execution_count": 23,
   "id": "a8a310c1-89e4-412d-af4d-151d1f95313b",
   "metadata": {},
   "outputs": [
    {
     "name": "stdout",
     "output_type": "stream",
     "text": [
      "2\n",
      "4\n",
      "6\n",
      "8\n",
      "10\n"
     ]
    }
   ],
   "source": [
    "for Jelly in integers:\n",
    "    print(Jelly+Jelly)"
   ]
  },
  {
   "cell_type": "code",
   "execution_count": 25,
   "id": "5f62bd3e-f208-4c84-b866-296b8c5cff5e",
   "metadata": {},
   "outputs": [],
   "source": [
    "ice_cream_dict={'name':'alex kim','weekly intake':5,'favorite ice creams':['MCC','chocolate']}"
   ]
  },
  {
   "cell_type": "code",
   "execution_count": 27,
   "id": "d7d25c9f-4579-4246-92ad-cb5ceff0a69e",
   "metadata": {},
   "outputs": [
    {
     "name": "stdout",
     "output_type": "stream",
     "text": [
      "alex kim\n",
      "5\n",
      "['MCC', 'chocolate']\n"
     ]
    }
   ],
   "source": [
    "for cream in ice_cream_dict.values():\n",
    "    print(cream)"
   ]
  },
  {
   "cell_type": "code",
   "execution_count": 29,
   "id": "c526a870-ae35-4de9-9603-1c7cf4cc5c9e",
   "metadata": {},
   "outputs": [
    {
     "name": "stdout",
     "output_type": "stream",
     "text": [
      "name -> alex kim\n",
      "weekly intake -> 5\n",
      "favorite ice creams -> ['MCC', 'chocolate']\n"
     ]
    }
   ],
   "source": [
    "for key,value in ice_cream_dict.items():\n",
    "    print(key,'->',value)"
   ]
  },
  {
   "cell_type": "code",
   "execution_count": 33,
   "id": "c52b3f00-6295-4969-abeb-b148f0daad01",
   "metadata": {},
   "outputs": [
    {
     "name": "stdout",
     "output_type": "stream",
     "text": [
      "vanilla topped with hotfudge\n",
      "vanilla topped with oreos\n",
      "vanilla topped with marshmellows\n",
      "chocolate topped with hotfudge\n",
      "chocolate topped with oreos\n",
      "chocolate topped with marshmellows\n",
      "cookie dough topped with hotfudge\n",
      "cookie dough topped with oreos\n",
      "cookie dough topped with marshmellows\n"
     ]
    }
   ],
   "source": [
    "# nested loops\n",
    "\n",
    "flavors=['vanilla','chocolate','cookie dough']\n",
    "toppings=['hotfudge','oreos','marshmellows']\n",
    "for one in flavors:\n",
    "    for two in toppings:\n",
    "        print(one,'topped with',two)"
   ]
  },
  {
   "cell_type": "raw",
   "id": "30028042-12e6-4b27-afd5-a58fe8e70721",
   "metadata": {},
   "source": []
  },
  {
   "cell_type": "code",
   "execution_count": null,
   "id": "6f3e1a2f-b880-4fdf-bc11-bc764ac36e14",
   "metadata": {},
   "outputs": [],
   "source": []
  },
  {
   "cell_type": "code",
   "execution_count": null,
   "id": "8eb9ad37-4a4b-4e9d-aee3-0d75d175e72f",
   "metadata": {},
   "outputs": [],
   "source": []
  }
 ],
 "metadata": {
  "kernelspec": {
   "display_name": "Python 3 (ipykernel)",
   "language": "python",
   "name": "python3"
  },
  "language_info": {
   "codemirror_mode": {
    "name": "ipython",
    "version": 3
   },
   "file_extension": ".py",
   "mimetype": "text/x-python",
   "name": "python",
   "nbconvert_exporter": "python",
   "pygments_lexer": "ipython3",
   "version": "3.12.4"
  }
 },
 "nbformat": 4,
 "nbformat_minor": 5
}
