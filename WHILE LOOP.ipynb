{
 "cells": [
  {
   "cell_type": "code",
   "execution_count": 1,
   "id": "2f0cecc2-abca-4a70-b874-d71bc1061797",
   "metadata": {},
   "outputs": [
    {
     "name": "stdout",
     "output_type": "stream",
     "text": [
      "0\n",
      "1\n",
      "2\n",
      "3\n",
      "4\n"
     ]
    }
   ],
   "source": [
    "# while loop \n",
    "number=0\n",
    "while number<5:\n",
    "    print(number)\n",
    "    number=number+1"
   ]
  },
  {
   "cell_type": "code",
   "execution_count": 3,
   "id": "d8abb52a-c181-4344-96d4-c767fc23828c",
   "metadata": {},
   "outputs": [
    {
     "name": "stdout",
     "output_type": "stream",
     "text": [
      "0\n",
      "1\n",
      "2\n",
      "3\n"
     ]
    }
   ],
   "source": [
    "# while loop \n",
    "number=0\n",
    "while number<5:\n",
    "    print(number)\n",
    "    if number==3:\n",
    "        break\n",
    "    number=number+1"
   ]
  },
  {
   "cell_type": "code",
   "execution_count": 5,
   "id": "9ad23f5d-4435-4c80-aa74-88c5cfe22f2e",
   "metadata": {},
   "outputs": [
    {
     "name": "stdout",
     "output_type": "stream",
     "text": [
      "0\n",
      "1\n",
      "2\n",
      "3\n",
      "4\n",
      "no longer<5\n"
     ]
    }
   ],
   "source": [
    "# while loop \n",
    "number=0\n",
    "while number<5:\n",
    "    print(number)\n",
    "    if number==6:\n",
    "        break\n",
    "    number=number+1\n",
    "else:\n",
    "    print('no longer<5')"
   ]
  },
  {
   "cell_type": "code",
   "execution_count": 7,
   "id": "640cb4db-bae4-4d4c-ae6f-011d50303437",
   "metadata": {},
   "outputs": [
    {
     "name": "stdout",
     "output_type": "stream",
     "text": [
      "2\n",
      "5\n",
      "no longer<5\n"
     ]
    }
   ],
   "source": [
    "# while loop \n",
    "number=0\n",
    "while number<5:\n",
    "    number=number+1\n",
    "    if number==3:\n",
    "        continue\n",
    "    number=number+1\n",
    "    print(number)\n",
    "else:\n",
    "    print('no longer<5')"
   ]
  },
  {
   "cell_type": "code",
   "execution_count": null,
   "id": "4bc48093-7970-4722-9c3a-e03b96dc8278",
   "metadata": {},
   "outputs": [],
   "source": []
  },
  {
   "cell_type": "code",
   "execution_count": null,
   "id": "13c80df8-4b88-4db9-a146-8ca3988e36cc",
   "metadata": {},
   "outputs": [],
   "source": []
  },
  {
   "cell_type": "code",
   "execution_count": null,
   "id": "c6368de1-84bf-414d-9946-5dbefe606b7d",
   "metadata": {},
   "outputs": [],
   "source": []
  },
  {
   "cell_type": "code",
   "execution_count": null,
   "id": "e9767150-afc7-47f8-b3b2-fd7ccea6a913",
   "metadata": {},
   "outputs": [],
   "source": []
  },
  {
   "cell_type": "code",
   "execution_count": null,
   "id": "64ed3b75-ec67-4b74-a904-ec9124da8941",
   "metadata": {},
   "outputs": [],
   "source": []
  },
  {
   "cell_type": "code",
   "execution_count": null,
   "id": "220cbf3e-efed-46f0-b365-6ab8604d07d6",
   "metadata": {},
   "outputs": [],
   "source": []
  },
  {
   "cell_type": "code",
   "execution_count": null,
   "id": "8283db00-f1b4-4e5c-bea0-8da2d23e3147",
   "metadata": {},
   "outputs": [],
   "source": []
  },
  {
   "cell_type": "code",
   "execution_count": null,
   "id": "ab397d0b-aa73-4a54-bc4c-0c56e21f1a23",
   "metadata": {},
   "outputs": [],
   "source": []
  }
 ],
 "metadata": {
  "kernelspec": {
   "display_name": "Python 3 (ipykernel)",
   "language": "python",
   "name": "python3"
  },
  "language_info": {
   "codemirror_mode": {
    "name": "ipython",
    "version": 3
   },
   "file_extension": ".py",
   "mimetype": "text/x-python",
   "name": "python",
   "nbconvert_exporter": "python",
   "pygments_lexer": "ipython3",
   "version": "3.12.4"
  }
 },
 "nbformat": 4,
 "nbformat_minor": 5
}
