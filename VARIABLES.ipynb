{
 "cells": [
  {
   "cell_type": "code",
   "execution_count": 1,
   "id": "5a2766cd-024a-4213-a728-9826491c037e",
   "metadata": {},
   "outputs": [],
   "source": [
    "# VARIABLES IN PYTHON"
   ]
  },
  {
   "cell_type": "code",
   "execution_count": 5,
   "id": "839b2511-b000-4c13-b0ed-dc5e8436b28a",
   "metadata": {},
   "outputs": [
    {
     "name": "stdout",
     "output_type": "stream",
     "text": [
      "22\n"
     ]
    }
   ],
   "source": [
    "x=22\n",
    "print(x)"
   ]
  },
  {
   "cell_type": "code",
   "execution_count": 7,
   "id": "73520b54-d554-4303-9ece-46ff0d4c7099",
   "metadata": {},
   "outputs": [
    {
     "data": {
      "text/plain": [
       "int"
      ]
     },
     "execution_count": 7,
     "metadata": {},
     "output_type": "execute_result"
    }
   ],
   "source": [
    "type(x)"
   ]
  },
  {
   "cell_type": "code",
   "execution_count": 9,
   "id": "9e67720f-7c67-4a92-b6ae-fd91ecbca710",
   "metadata": {},
   "outputs": [
    {
     "name": "stdout",
     "output_type": "stream",
     "text": [
      "chocalate milk\n"
     ]
    }
   ],
   "source": [
    "y='chocalate milk'\n",
    "print(y)"
   ]
  },
  {
   "cell_type": "code",
   "execution_count": 11,
   "id": "896830ce-fe6a-4c41-9edf-889f21763671",
   "metadata": {},
   "outputs": [
    {
     "data": {
      "text/plain": [
       "str"
      ]
     },
     "execution_count": 11,
     "metadata": {},
     "output_type": "execute_result"
    }
   ],
   "source": [
    "type(y)"
   ]
  },
  {
   "cell_type": "code",
   "execution_count": 13,
   "id": "9e120cb8-493d-4cf9-acbf-2c8bec2e0b94",
   "metadata": {},
   "outputs": [
    {
     "name": "stdout",
     "output_type": "stream",
     "text": [
      "cat\n"
     ]
    }
   ],
   "source": [
    "z='cat'\n",
    "Z='dog'\n",
    "print(z)"
   ]
  },
  {
   "cell_type": "code",
   "execution_count": 15,
   "id": "5e4172db-d904-4bf4-8dae-81aaf7578785",
   "metadata": {},
   "outputs": [
    {
     "name": "stdout",
     "output_type": "stream",
     "text": [
      "chocolate\n",
      "vanilla\n",
      "rockyroad\n"
     ]
    }
   ],
   "source": [
    "ice_cream=('chocolate','vanilla','rockyroad')\n",
    "x,y,z=ice_cream\n",
    "print(x)\n",
    "print(y)\n",
    "print(z)"
   ]
  },
  {
   "cell_type": "code",
   "execution_count": null,
   "id": "52999863-1c03-4ac8-8f8c-dffddd791dc5",
   "metadata": {},
   "outputs": [],
   "source": [
    "#camel case\n",
    "#Test Variable Case\n",
    "testVariableCase='Vanilla Swirl'"
   ]
  },
  {
   "cell_type": "code",
   "execution_count": null,
   "id": "2aaeb664-f792-4c46-976c-3900bf374f71",
   "metadata": {},
   "outputs": [],
   "source": [
    "#snake case\n",
    "#Test Variable Case\n",
    "test_variable_case='Vanilla Swirl'"
   ]
  },
  {
   "cell_type": "code",
   "execution_count": null,
   "id": "6d3ad23a-47c7-4ca5-ad27-2f79b568e468",
   "metadata": {},
   "outputs": [],
   "source": [
    "#Pascal case\n",
    "#Test Variable Case\n",
    "TestVariableCase='Vanilla Swirl'"
   ]
  },
  {
   "cell_type": "code",
   "execution_count": 17,
   "id": "8f228dc7-bc01-4127-ac95-e4ac73c3d2cc",
   "metadata": {},
   "outputs": [
    {
     "ename": "SyntaxError",
     "evalue": "invalid syntax (3496743670.py, line 3)",
     "output_type": "error",
     "traceback": [
      "\u001b[1;36m  Cell \u001b[1;32mIn[17], line 3\u001b[1;36m\u001b[0m\n\u001b[1;33m    test_var=\u001b[0m\n\u001b[1;37m             ^\u001b[0m\n\u001b[1;31mSyntaxError\u001b[0m\u001b[1;31m:\u001b[0m invalid syntax\n"
     ]
    }
   ],
   "source": [
    "# variable name types\n",
    "testvar='vanilla swirl'\n",
    "test_var=vanilla Swirl'\n",
    "_test_var='Vanilla Swirl'\n",
    "testVar='vanilla Swirl'\n",
    "TestVar='Vanilla Swirl'\n",
    "testVar2='Vanilla Swirl'"
   ]
  },
  {
   "cell_type": "code",
   "execution_count": 19,
   "id": "f0379604-9136-4c26-bfec-ca89bc8c10f8",
   "metadata": {},
   "outputs": [
    {
     "name": "stdout",
     "output_type": "stream",
     "text": [
      "Ice cream is my favourite.\n"
     ]
    }
   ],
   "source": [
    "#using the +sign\n",
    "x='Ice cream is my favourite'+'.'\n",
    "print(x)"
   ]
  },
  {
   "cell_type": "markdown",
   "id": "b41f990c-0436-4057-8fe9-3ce465990cf2",
   "metadata": {},
   "source": [
    "y=3 +2\n",
    "print(y)"
   ]
  },
  {
   "cell_type": "code",
   "execution_count": 27,
   "id": "37329299-3282-49d2-9b36-3f65f7151bd0",
   "metadata": {},
   "outputs": [
    {
     "name": "stdout",
     "output_type": "stream",
     "text": [
      "6\n"
     ]
    }
   ],
   "source": [
    "x=1\n",
    "y=2\n",
    "z=3\n",
    "print(x+y+z)"
   ]
  },
  {
   "cell_type": "code",
   "execution_count": 31,
   "id": "31acf4a6-3187-44ca-9964-b5711292ad44",
   "metadata": {},
   "outputs": [
    {
     "name": "stdout",
     "output_type": "stream",
     "text": [
      "2 dogs\n"
     ]
    }
   ],
   "source": [
    "x=2\n",
    "y='dogs'\n",
    "print(x,y)"
   ]
  },
  {
   "cell_type": "code",
   "execution_count": null,
   "id": "298570b0-78d1-4ac2-9a2a-57cb7ed7b373",
   "metadata": {},
   "outputs": [],
   "source": []
  },
  {
   "cell_type": "code",
   "execution_count": null,
   "id": "a34d85b5-c087-4d91-bfcd-7aaff8ea0e75",
   "metadata": {},
   "outputs": [],
   "source": []
  }
 ],
 "metadata": {
  "kernelspec": {
   "display_name": "Python 3 (ipykernel)",
   "language": "python",
   "name": "python3"
  },
  "language_info": {
   "codemirror_mode": {
    "name": "ipython",
    "version": 3
   },
   "file_extension": ".py",
   "mimetype": "text/x-python",
   "name": "python",
   "nbconvert_exporter": "python",
   "pygments_lexer": "ipython3",
   "version": "3.12.4"
  }
 },
 "nbformat": 4,
 "nbformat_minor": 5
}
