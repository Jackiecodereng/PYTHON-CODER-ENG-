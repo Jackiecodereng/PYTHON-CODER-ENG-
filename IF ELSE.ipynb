{
 "cells": [
  {
   "cell_type": "code",
   "execution_count": 3,
   "id": "b63800a3-9e0e-47c9-8eb0-c26f1f9ca296",
   "metadata": {},
   "outputs": [
    {
     "name": "stdout",
     "output_type": "stream",
     "text": [
      "it worked!\n"
     ]
    }
   ],
   "source": [
    "#IF_ELIF_ELSE STATEMENT\n",
    "if 25>10:\n",
    "    print('it worked!')"
   ]
  },
  {
   "cell_type": "code",
   "execution_count": 23,
   "id": "a64dbd57-7825-4ed9-8cc8-878524c3a247",
   "metadata": {},
   "outputs": [
    {
     "name": "stdout",
     "output_type": "stream",
     "text": [
      "it worked!\n",
      "nested if works\n"
     ]
    }
   ],
   "source": [
    "#IF_ELIF_ELSE STATEMENT\n",
    "if (25>10) or (1<3):\n",
    "    print('it worked!')\n",
    "if 10>5:\n",
    "    print('nested if works')"
   ]
  },
  {
   "cell_type": "code",
   "execution_count": null,
   "id": "7b3e8007-2b1c-45f7-be2b-150243e48a89",
   "metadata": {},
   "outputs": [],
   "source": []
  },
  {
   "cell_type": "code",
   "execution_count": 13,
   "id": "4582107b-d714-4b64-9786-16c738c6c071",
   "metadata": {},
   "outputs": [
    {
     "name": "stdout",
     "output_type": "stream",
     "text": [
      "it did not work\n"
     ]
    }
   ],
   "source": [
    "#IF_ELIF_ELSE STATEMENT\n",
    "if 25<10:\n",
    "    print('it worked!')\n",
    "else:\n",
    "    print('it did not work')"
   ]
  },
  {
   "cell_type": "code",
   "execution_count": 17,
   "id": "9d44d6f1-3548-4e94-93d5-3d394d79483f",
   "metadata": {},
   "outputs": [
    {
     "name": "stdout",
     "output_type": "stream",
     "text": [
      "it worked!\n"
     ]
    }
   ],
   "source": [
    "#IF_ELIF_ELSE STATEMENT\n",
    "if (25<10) or (1<3):\n",
    "    print('it worked!')\n",
    "elif (25<30):\n",
    "    print('elif worked')\n",
    "else:\n",
    "    print('it did not work')"
   ]
  },
  {
   "cell_type": "code",
   "execution_count": 11,
   "id": "b0ab55ac-0066-4411-b496-b8d74ca2c0c9",
   "metadata": {},
   "outputs": [
    {
     "ename": "IndentationError",
     "evalue": "expected an indented block after 'if' statement on line 1 (1039574632.py, line 2)",
     "output_type": "error",
     "traceback": [
      "\u001b[1;36m  Cell \u001b[1;32mIn[11], line 2\u001b[1;36m\u001b[0m\n\u001b[1;33m    print('it worked!')\u001b[0m\n\u001b[1;37m    ^\u001b[0m\n\u001b[1;31mIndentationError\u001b[0m\u001b[1;31m:\u001b[0m expected an indented block after 'if' statement on line 1\n"
     ]
    }
   ],
   "source": []
  },
  {
   "cell_type": "code",
   "execution_count": null,
   "id": "8a55623d-c9d3-4b46-9a7d-1acf6d73c5aa",
   "metadata": {},
   "outputs": [],
   "source": []
  }
 ],
 "metadata": {
  "kernelspec": {
   "display_name": "Python 3 (ipykernel)",
   "language": "python",
   "name": "python3"
  },
  "language_info": {
   "codemirror_mode": {
    "name": "ipython",
    "version": 3
   },
   "file_extension": ".py",
   "mimetype": "text/x-python",
   "name": "python",
   "nbconvert_exporter": "python",
   "pygments_lexer": "ipython3",
   "version": "3.12.4"
  }
 },
 "nbformat": 4,
 "nbformat_minor": 5
}
