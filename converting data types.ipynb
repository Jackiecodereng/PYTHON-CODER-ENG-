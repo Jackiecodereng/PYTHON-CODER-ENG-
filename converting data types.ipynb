{
 "cells": [
  {
   "cell_type": "code",
   "execution_count": 22,
   "id": "397bb9e2-44dc-45d7-bc32-f2a9cdb3de9d",
   "metadata": {},
   "outputs": [],
   "source": [
    "#converting data types\n",
    "num_int=7\n",
    "num_str='7'\n",
    "nun_str_conv= int(num_str)"
   ]
  },
  {
   "cell_type": "code",
   "execution_count": 24,
   "id": "f88a5e28-1221-4275-bd1f-5813b13cd2a8",
   "metadata": {},
   "outputs": [
    {
     "ename": "TypeError",
     "evalue": "unsupported operand type(s) for +: 'int' and 'str'",
     "output_type": "error",
     "traceback": [
      "\u001b[1;31m---------------------------------------------------------------------------\u001b[0m",
      "\u001b[1;31mTypeError\u001b[0m                                 Traceback (most recent call last)",
      "Cell \u001b[1;32mIn[24], line 1\u001b[0m\n\u001b[1;32m----> 1\u001b[0m num_sum\u001b[38;5;241m=\u001b[39mnum_int\u001b[38;5;241m+\u001b[39mnum_str\n",
      "\u001b[1;31mTypeError\u001b[0m: unsupported operand type(s) for +: 'int' and 'str'"
     ]
    }
   ],
   "source": [
    "num_sum=num_int+num_str"
   ]
  },
  {
   "cell_type": "code",
   "execution_count": null,
   "id": "246f3a75-8555-406f-b1d7-7896aab681b0",
   "metadata": {},
   "outputs": [],
   "source": []
  },
  {
   "cell_type": "code",
   "execution_count": 29,
   "id": "3596b425-e049-4135-bcb5-2c9a109cfc9f",
   "metadata": {},
   "outputs": [],
   "source": [
    "list_type=[1,2,3]"
   ]
  },
  {
   "cell_type": "code",
   "execution_count": 37,
   "id": "6cffdc72-cbae-4fee-8bf5-1852d3f3068c",
   "metadata": {},
   "outputs": [
    {
     "data": {
      "text/plain": [
       "(1, 2, 3, 4, 3, 4, 5, 43, 5, 6)"
      ]
     },
     "execution_count": 37,
     "metadata": {},
     "output_type": "execute_result"
    }
   ],
   "source": [
    "tuple(list_type)"
   ]
  },
  {
   "cell_type": "code",
   "execution_count": 33,
   "id": "5dc18aa5-1f9e-4f85-b8f2-3c25ad4f396c",
   "metadata": {},
   "outputs": [],
   "source": [
    "list_type=[1,2,3,4,3,4,5,43,5,6]"
   ]
  },
  {
   "cell_type": "code",
   "execution_count": 35,
   "id": "da979bc5-eb39-4f13-9bbe-88be41e4b302",
   "metadata": {},
   "outputs": [
    {
     "data": {
      "text/plain": [
       "{1, 2, 3, 4, 5, 6, 43}"
      ]
     },
     "execution_count": 35,
     "metadata": {},
     "output_type": "execute_result"
    }
   ],
   "source": [
    "set(list_type)"
   ]
  },
  {
   "cell_type": "code",
   "execution_count": 39,
   "id": "fd24ab3c-8e2a-410e-a381-56eb8e18b0cd",
   "metadata": {},
   "outputs": [],
   "source": [
    "long_str=\"i like to party\""
   ]
  },
  {
   "cell_type": "code",
   "execution_count": 41,
   "id": "f076d1c1-71ae-46b9-988d-55fd854bea76",
   "metadata": {},
   "outputs": [
    {
     "data": {
      "text/plain": [
       "['i', ' ', 'l', 'i', 'k', 'e', ' ', 't', 'o', ' ', 'p', 'a', 'r', 't', 'y']"
      ]
     },
     "execution_count": 41,
     "metadata": {},
     "output_type": "execute_result"
    }
   ],
   "source": [
    "list(long_str)"
   ]
  },
  {
   "cell_type": "code",
   "execution_count": 43,
   "id": "7071d387-60ce-4d1b-b05c-8bc39a58f017",
   "metadata": {},
   "outputs": [
    {
     "data": {
      "text/plain": [
       "{' ', 'a', 'e', 'i', 'k', 'l', 'o', 'p', 'r', 't', 'y'}"
      ]
     },
     "execution_count": 43,
     "metadata": {},
     "output_type": "execute_result"
    }
   ],
   "source": [
    "set(long_str)"
   ]
  },
  {
   "cell_type": "code",
   "execution_count": 45,
   "id": "0891aa99-efa5-4703-bb36-489f540e1599",
   "metadata": {},
   "outputs": [],
   "source": [
    "dict_type={'name':'alex','age':'28','hair':'none'}"
   ]
  },
  {
   "cell_type": "code",
   "execution_count": 49,
   "id": "529d8897-5f3c-47ce-941f-19e9729704d6",
   "metadata": {},
   "outputs": [
    {
     "data": {
      "text/plain": [
       "dict_values(['alex', '28', 'none'])"
      ]
     },
     "execution_count": 49,
     "metadata": {},
     "output_type": "execute_result"
    }
   ],
   "source": [
    "dict_type.values()"
   ]
  },
  {
   "cell_type": "code",
   "execution_count": 51,
   "id": "90b1228f-aea0-4dc4-b4d9-71c3025fa917",
   "metadata": {},
   "outputs": [
    {
     "data": {
      "text/plain": [
       "['alex', '28', 'none']"
      ]
     },
     "execution_count": 51,
     "metadata": {},
     "output_type": "execute_result"
    }
   ],
   "source": [
    "list(dict_type.values())"
   ]
  },
  {
   "cell_type": "code",
   "execution_count": null,
   "id": "4b8b153e-fe17-4926-b5fb-42175b033cd3",
   "metadata": {},
   "outputs": [],
   "source": []
  },
  {
   "cell_type": "code",
   "execution_count": null,
   "id": "62f46105-1227-480a-9190-ad679fe88708",
   "metadata": {},
   "outputs": [],
   "source": []
  },
  {
   "cell_type": "code",
   "execution_count": null,
   "id": "9a807b09-96c4-4b9f-8973-af1ba3c4f9c7",
   "metadata": {},
   "outputs": [],
   "source": []
  },
  {
   "cell_type": "code",
   "execution_count": null,
   "id": "e184c78a-0e9c-4280-9cc6-a2face8df31d",
   "metadata": {},
   "outputs": [],
   "source": []
  }
 ],
 "metadata": {
  "kernelspec": {
   "display_name": "Python 3 (ipykernel)",
   "language": "python",
   "name": "python3"
  },
  "language_info": {
   "codemirror_mode": {
    "name": "ipython",
    "version": 3
   },
   "file_extension": ".py",
   "mimetype": "text/x-python",
   "name": "python",
   "nbconvert_exporter": "python",
   "pygments_lexer": "ipython3",
   "version": "3.12.4"
  }
 },
 "nbformat": 4,
 "nbformat_minor": 5
}
